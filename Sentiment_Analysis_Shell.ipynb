{
  "nbformat": 4,
  "nbformat_minor": 0,
  "metadata": {
    "colab": {
      "name": "Sentiment Analysis @Shell",
      "provenance": []
    },
    "kernelspec": {
      "name": "python3",
      "display_name": "Python 3"
    },
    "language_info": {
      "name": "python"
    }
  },
  "cells": [
    {
      "cell_type": "code",
      "execution_count": null,
      "metadata": {
        "id": "29dh4fGKbejM"
      },
      "outputs": [],
      "source": [
        "import tweepy\n",
        "import pandas as pd\n",
        "import numpy as np\n",
        "import re\n",
        "from nltk.tokenize import TweetTokenizer"
      ]
    },
    {
      "cell_type": "code",
      "source": [
        "access_key = \"1242513200861655044-6CI2xllf2c4ajWcWhxTaXPDHk3jr6a\"\n",
        "access_secret = \"sw1LYhAV6WQncMgrbmE8uEKWBggxWnFftaPxSbkaXhMvJ\""
      ],
      "metadata": {
        "id": "Iu0H_3oVbhQO"
      },
      "execution_count": null,
      "outputs": []
    },
    {
      "cell_type": "code",
      "source": [
        "#twiiter authentication\n",
        "auth = tweepy.OAuthHandler(consumer_key=\"7UJbJE9RyNsdHXGctbkqiEM6B\", consumer_secret=\"pc5apOR0d5BZeYim4thjAlkokgxLyeKNlXHnHHlGf0p46dwNeK\")\n",
        "auth.set_access_token(access_key, access_secret)\n",
        "#creating an API object\n",
        "api =tweepy.API(auth,wait_on_rate_limit=True,wait_on_rate_limit_notify=True)\n",
        "#api = tweepy.API(auth, wait_on_rate_limit=True)\n",
        "#api = tweepy.API(auth)"
      ],
      "metadata": {
        "id": "ZfIm915rbnOP"
      },
      "execution_count": null,
      "outputs": []
    },
    {
      "cell_type": "code",
      "source": [
        "#'sustainability'or'carbon emission'or'green house gas'or'ghg'or'cost-effectiveness'or'carbon footprint'or'carbon neutrality', 'methane'"
      ],
      "metadata": {
        "id": "NmKPlHprbwXB"
      },
      "execution_count": null,
      "outputs": []
    },
    {
      "cell_type": "code",
      "source": [
        "search_term = \"shell, 'sustainability' -filter:retweets\"\n",
        "\n",
        "tweets = tweepy.Cursor(api.search,\n",
        "                   q=search_term,\n",
        "                   lang=\"en\",\n",
        "                   since='2018-11-01').items(1000)\n",
        "\n",
        "sustai_twt = [tweet.text for tweet in tweets]\n",
        "\n",
        "len(sustai_twt)"
      ],
      "metadata": {
        "colab": {
          "base_uri": "https://localhost:8080/"
        },
        "id": "SzuBb65LbnLt",
        "outputId": "82e005ca-f603-4d8a-83fd-34f528ac8a3b"
      },
      "execution_count": null,
      "outputs": [
        {
          "output_type": "execute_result",
          "data": {
            "text/plain": [
              "28"
            ]
          },
          "metadata": {},
          "execution_count": 26
        }
      ]
    },
    {
      "cell_type": "code",
      "source": [
        "search_term = \"'shell', 'carbon' -filter:retweets\"\n",
        "\n",
        "tweets = tweepy.Cursor(api.search,\n",
        "                   q=search_term,\n",
        "                   lang=\"en\",\n",
        "                   since='2018-11-01').items(1000)\n",
        "\n",
        "em_twt = [tweet.text for tweet in tweets]\n",
        "\n",
        "em_twt[0:5]\n",
        "len(em_twt)"
      ],
      "metadata": {
        "colab": {
          "base_uri": "https://localhost:8080/"
        },
        "id": "EDeGCMqjbnKB",
        "outputId": "776506a2-e08f-4a71-c313-596cdb7abac0"
      },
      "execution_count": null,
      "outputs": [
        {
          "output_type": "execute_result",
          "data": {
            "text/plain": [
              "122"
            ]
          },
          "metadata": {},
          "execution_count": 27
        }
      ]
    },
    {
      "cell_type": "code",
      "source": [
        "search_term = \"shell, 'methane' -filter:retweets\"\n",
        "\n",
        "tweets = tweepy.Cursor(api.search,\n",
        "                   q=search_term,\n",
        "                   lang=\"en\",\n",
        "                   since='2018-11-01').items(1000)\n",
        "\n",
        "mthn_twt = [tweet.text for tweet in tweets]\n",
        "\n",
        "len(mthn_twt)"
      ],
      "metadata": {
        "colab": {
          "base_uri": "https://localhost:8080/"
        },
        "id": "o9eObQKHbnHG",
        "outputId": "7aef9ddc-36c5-4af7-9ccb-153838db6aa8"
      },
      "execution_count": null,
      "outputs": [
        {
          "output_type": "execute_result",
          "data": {
            "text/plain": [
              "4"
            ]
          },
          "metadata": {},
          "execution_count": 6
        }
      ]
    },
    {
      "cell_type": "code",
      "source": [
        "search_term = \"shell, 'ghg' -filter:retweets\"\n",
        "\n",
        "tweets = tweepy.Cursor(api.search,\n",
        "                   q=search_term,\n",
        "                   lang=\"en\",\n",
        "                   since='2018-11-01').items(1000)\n",
        "\n",
        "ghg_twt = [tweet.text for tweet in tweets]\n",
        "\n",
        "ghg_twt[0:5]\n",
        "len(ghg_twt)"
      ],
      "metadata": {
        "colab": {
          "base_uri": "https://localhost:8080/"
        },
        "id": "fg4zoAqvbnEu",
        "outputId": "66c16a55-7031-4f3b-af3a-79931350be11"
      },
      "execution_count": null,
      "outputs": [
        {
          "output_type": "execute_result",
          "data": {
            "text/plain": [
              "4"
            ]
          },
          "metadata": {},
          "execution_count": 7
        }
      ]
    },
    {
      "cell_type": "code",
      "source": [
        "search_term = \"shell, 'carbon footprint' -filter:retweets\"\n",
        "\n",
        "tweets = tweepy.Cursor(api.search,\n",
        "                   q=search_term,\n",
        "                   lang=\"en\",\n",
        "                   since='2018-11-01').items(1000)\n",
        "\n",
        "cf_twt = [tweet.text for tweet in tweets]\n",
        "\n",
        "cf_twt[0:5]\n",
        "len(cf_twt)"
      ],
      "metadata": {
        "colab": {
          "base_uri": "https://localhost:8080/"
        },
        "id": "-rAa_v20bnCX",
        "outputId": "962d0728-1937-4cb6-9902-381a30b2222f"
      },
      "execution_count": null,
      "outputs": [
        {
          "output_type": "execute_result",
          "data": {
            "text/plain": [
              "8"
            ]
          },
          "metadata": {},
          "execution_count": 8
        }
      ]
    },
    {
      "cell_type": "code",
      "source": [
        "search_term = \"shell, 'energy' -filter:retweets\"\n",
        "\n",
        "tweets = tweepy.Cursor(api.search,\n",
        "                   q=search_term,\n",
        "                   lang=\"en\",\n",
        "                   since='2015-11-01').items(1500)\n",
        "\n",
        "enrg_twt = [tweet.text for tweet in tweets]\n",
        "\n",
        "enrg_twt[0:5]\n",
        "len(enrg_twt)"
      ],
      "metadata": {
        "colab": {
          "base_uri": "https://localhost:8080/"
        },
        "id": "Pr9GNvkbbm-m",
        "outputId": "d69391d5-c250-4a9a-9f72-d902c7d7db76"
      },
      "execution_count": null,
      "outputs": [
        {
          "output_type": "execute_result",
          "data": {
            "text/plain": [
              "1500"
            ]
          },
          "metadata": {},
          "execution_count": 28
        }
      ]
    },
    {
      "cell_type": "code",
      "source": [
        "search_term = \"shell, 'net zero' -filter:retweets\"\n",
        "\n",
        "tweets = tweepy.Cursor(api.search,\n",
        "                   q=search_term,\n",
        "                   lang=\"en\",\n",
        "                   since='2018-11-01').items(1000)\n",
        "\n",
        "nz_twt = [tweet.text for tweet in tweets]\n",
        "\n",
        "nz_twt[0:5]\n",
        "len(nz_twt)"
      ],
      "metadata": {
        "colab": {
          "base_uri": "https://localhost:8080/"
        },
        "id": "JHuF5PV1bm8P",
        "outputId": "040a7f6e-9b67-471d-d2b0-5ee5a43a3786"
      },
      "execution_count": null,
      "outputs": [
        {
          "output_type": "execute_result",
          "data": {
            "text/plain": [
              "44"
            ]
          },
          "metadata": {},
          "execution_count": 31
        }
      ]
    },
    {
      "cell_type": "code",
      "source": [
        "search_term = \"shell, 'plastic' -filter:retweets\"\n",
        "\n",
        "tweets = tweepy.Cursor(api.search,\n",
        "                   q=search_term,\n",
        "                   lang=\"en\",\n",
        "                   since='2018-11-01').items(1000)\n",
        "\n",
        "pls_twt = [tweet.text for tweet in tweets]\n",
        "\n",
        "pls_twt[0:5]\n",
        "len(pls_twt)"
      ],
      "metadata": {
        "colab": {
          "base_uri": "https://localhost:8080/"
        },
        "id": "79UcMynwe7j4",
        "outputId": "30993563-5fac-4cd3-d5f3-d7fc88a33c7b"
      },
      "execution_count": null,
      "outputs": [
        {
          "output_type": "execute_result",
          "data": {
            "text/plain": [
              "149"
            ]
          },
          "metadata": {},
          "execution_count": 32
        }
      ]
    },
    {
      "cell_type": "code",
      "source": [
        "search_term = \"shell, 'Polyethylene' -filter:retweets\"\n",
        "\n",
        "tweets = tweepy.Cursor(api.search,\n",
        "                   q=search_term,\n",
        "                   lang=\"en\",\n",
        "                   since='2018-11-01').items(1000)\n",
        "\n",
        "pol_twt = [tweet.text for tweet in tweets]\n",
        "\n",
        "pol_twt[0:5]\n",
        "len(pol_twt)"
      ],
      "metadata": {
        "colab": {
          "base_uri": "https://localhost:8080/"
        },
        "id": "JqPXr1FvfPGQ",
        "outputId": "3041cb05-8195-43ce-f60a-a8b24f7b7204"
      },
      "execution_count": null,
      "outputs": [
        {
          "output_type": "execute_result",
          "data": {
            "text/plain": [
              "1"
            ]
          },
          "metadata": {},
          "execution_count": 33
        }
      ]
    },
    {
      "cell_type": "code",
      "source": [
        "search_term = \"shell, 'light' -filter:retweets\"\n",
        "\n",
        "tweets = tweepy.Cursor(api.search,\n",
        "                   q=search_term,\n",
        "                   lang=\"en\",\n",
        "                   since='2018-11-01').items(5000)\n",
        "\n",
        "lig_twt = [tweet.text for tweet in tweets]\n",
        "\n",
        "len(lig_twt)"
      ],
      "metadata": {
        "colab": {
          "base_uri": "https://localhost:8080/"
        },
        "id": "gtPPenFkgFYY",
        "outputId": "8f7f161a-19fe-4962-9e55-8bcce0157ab1"
      },
      "execution_count": null,
      "outputs": [
        {
          "output_type": "execute_result",
          "data": {
            "text/plain": [
              "366"
            ]
          },
          "metadata": {},
          "execution_count": 34
        }
      ]
    },
    {
      "cell_type": "code",
      "source": [
        "df = pd.DataFrame(data = sustai_twt,columns = ['Tweet'])\n",
        "df1 = pd.DataFrame(data = em_twt,columns = ['Tweet'])\n",
        "df2 = pd.DataFrame(data = mthn_twt,columns = ['Tweet'])\n",
        "df3 = pd.DataFrame(data = ghg_twt,columns = ['Tweet'])\n",
        "df4 = pd.DataFrame(data = cf_twt,columns = ['Tweet'])\n",
        "df5 = pd.DataFrame(data = enrg_twt,columns = ['Tweet'])\n",
        "df6 = pd.DataFrame(data = nz_twt,columns = ['Tweet'])\n",
        "df7 = pd.DataFrame(data = pls_twt,columns = ['Tweet'])\n",
        "df8 = pd.DataFrame(data = pol_twt,columns = ['Tweet'])\n",
        "df9 = pd.DataFrame(data = lig_twt,columns = ['Tweet'])"
      ],
      "metadata": {
        "id": "rVq-Ud2lbm6H"
      },
      "execution_count": null,
      "outputs": []
    },
    {
      "cell_type": "code",
      "source": [
        "final_df = pd.concat([df,df1,df2,df3,df4,df5,df6,df7,df8],axis = 0)"
      ],
      "metadata": {
        "id": "LdSUzVMzbm33"
      },
      "execution_count": null,
      "outputs": []
    },
    {
      "cell_type": "code",
      "source": [
        "final_df"
      ],
      "metadata": {
        "id": "J3VuWm5Abm13",
        "colab": {
          "base_uri": "https://localhost:8080/",
          "height": 424
        },
        "outputId": "0070048c-6cc2-45ea-c00c-150cb838f1b1"
      },
      "execution_count": null,
      "outputs": [
        {
          "output_type": "execute_result",
          "data": {
            "text/plain": [
              "                                                 Tweet\n",
              "0    Why buy a Tesla?  I don't mean what's the case...\n",
              "1    @the_Notorious_I @johnpavlovitz @ksorbs So … w...\n",
              "2    In 2020, The Green Universe Enterprise signed ...\n",
              "3    At 58 Redevco sites across Belgium Electric ve...\n",
              "4    There are more people joining the #ClimateActi...\n",
              "..                                                 ...\n",
              "145  #Libya - \"Investigators suspect that a booby t...\n",
              "146  @LowTeaTime The beauty of no plastic surgery. ...\n",
              "147  his is a 600 tonne machine producing a chair s...\n",
              "148  @reddit_TLCM didnt they ban kinder eggs cause ...\n",
              "0    568 30' White Polyethylene Shell Life R https:...\n",
              "\n",
              "[1860 rows x 1 columns]"
            ],
            "text/html": [
              "\n",
              "  <div id=\"df-5002c3bc-b934-4868-a84b-771dcdb61e5a\">\n",
              "    <div class=\"colab-df-container\">\n",
              "      <div>\n",
              "<style scoped>\n",
              "    .dataframe tbody tr th:only-of-type {\n",
              "        vertical-align: middle;\n",
              "    }\n",
              "\n",
              "    .dataframe tbody tr th {\n",
              "        vertical-align: top;\n",
              "    }\n",
              "\n",
              "    .dataframe thead th {\n",
              "        text-align: right;\n",
              "    }\n",
              "</style>\n",
              "<table border=\"1\" class=\"dataframe\">\n",
              "  <thead>\n",
              "    <tr style=\"text-align: right;\">\n",
              "      <th></th>\n",
              "      <th>Tweet</th>\n",
              "    </tr>\n",
              "  </thead>\n",
              "  <tbody>\n",
              "    <tr>\n",
              "      <th>0</th>\n",
              "      <td>Why buy a Tesla?  I don't mean what's the case...</td>\n",
              "    </tr>\n",
              "    <tr>\n",
              "      <th>1</th>\n",
              "      <td>@the_Notorious_I @johnpavlovitz @ksorbs So … w...</td>\n",
              "    </tr>\n",
              "    <tr>\n",
              "      <th>2</th>\n",
              "      <td>In 2020, The Green Universe Enterprise signed ...</td>\n",
              "    </tr>\n",
              "    <tr>\n",
              "      <th>3</th>\n",
              "      <td>At 58 Redevco sites across Belgium Electric ve...</td>\n",
              "    </tr>\n",
              "    <tr>\n",
              "      <th>4</th>\n",
              "      <td>There are more people joining the #ClimateActi...</td>\n",
              "    </tr>\n",
              "    <tr>\n",
              "      <th>...</th>\n",
              "      <td>...</td>\n",
              "    </tr>\n",
              "    <tr>\n",
              "      <th>145</th>\n",
              "      <td>#Libya - \"Investigators suspect that a booby t...</td>\n",
              "    </tr>\n",
              "    <tr>\n",
              "      <th>146</th>\n",
              "      <td>@LowTeaTime The beauty of no plastic surgery. ...</td>\n",
              "    </tr>\n",
              "    <tr>\n",
              "      <th>147</th>\n",
              "      <td>his is a 600 tonne machine producing a chair s...</td>\n",
              "    </tr>\n",
              "    <tr>\n",
              "      <th>148</th>\n",
              "      <td>@reddit_TLCM didnt they ban kinder eggs cause ...</td>\n",
              "    </tr>\n",
              "    <tr>\n",
              "      <th>0</th>\n",
              "      <td>568 30' White Polyethylene Shell Life R https:...</td>\n",
              "    </tr>\n",
              "  </tbody>\n",
              "</table>\n",
              "<p>1860 rows × 1 columns</p>\n",
              "</div>\n",
              "      <button class=\"colab-df-convert\" onclick=\"convertToInteractive('df-5002c3bc-b934-4868-a84b-771dcdb61e5a')\"\n",
              "              title=\"Convert this dataframe to an interactive table.\"\n",
              "              style=\"display:none;\">\n",
              "        \n",
              "  <svg xmlns=\"http://www.w3.org/2000/svg\" height=\"24px\"viewBox=\"0 0 24 24\"\n",
              "       width=\"24px\">\n",
              "    <path d=\"M0 0h24v24H0V0z\" fill=\"none\"/>\n",
              "    <path d=\"M18.56 5.44l.94 2.06.94-2.06 2.06-.94-2.06-.94-.94-2.06-.94 2.06-2.06.94zm-11 1L8.5 8.5l.94-2.06 2.06-.94-2.06-.94L8.5 2.5l-.94 2.06-2.06.94zm10 10l.94 2.06.94-2.06 2.06-.94-2.06-.94-.94-2.06-.94 2.06-2.06.94z\"/><path d=\"M17.41 7.96l-1.37-1.37c-.4-.4-.92-.59-1.43-.59-.52 0-1.04.2-1.43.59L10.3 9.45l-7.72 7.72c-.78.78-.78 2.05 0 2.83L4 21.41c.39.39.9.59 1.41.59.51 0 1.02-.2 1.41-.59l7.78-7.78 2.81-2.81c.8-.78.8-2.07 0-2.86zM5.41 20L4 18.59l7.72-7.72 1.47 1.35L5.41 20z\"/>\n",
              "  </svg>\n",
              "      </button>\n",
              "      \n",
              "  <style>\n",
              "    .colab-df-container {\n",
              "      display:flex;\n",
              "      flex-wrap:wrap;\n",
              "      gap: 12px;\n",
              "    }\n",
              "\n",
              "    .colab-df-convert {\n",
              "      background-color: #E8F0FE;\n",
              "      border: none;\n",
              "      border-radius: 50%;\n",
              "      cursor: pointer;\n",
              "      display: none;\n",
              "      fill: #1967D2;\n",
              "      height: 32px;\n",
              "      padding: 0 0 0 0;\n",
              "      width: 32px;\n",
              "    }\n",
              "\n",
              "    .colab-df-convert:hover {\n",
              "      background-color: #E2EBFA;\n",
              "      box-shadow: 0px 1px 2px rgba(60, 64, 67, 0.3), 0px 1px 3px 1px rgba(60, 64, 67, 0.15);\n",
              "      fill: #174EA6;\n",
              "    }\n",
              "\n",
              "    [theme=dark] .colab-df-convert {\n",
              "      background-color: #3B4455;\n",
              "      fill: #D2E3FC;\n",
              "    }\n",
              "\n",
              "    [theme=dark] .colab-df-convert:hover {\n",
              "      background-color: #434B5C;\n",
              "      box-shadow: 0px 1px 3px 1px rgba(0, 0, 0, 0.15);\n",
              "      filter: drop-shadow(0px 1px 2px rgba(0, 0, 0, 0.3));\n",
              "      fill: #FFFFFF;\n",
              "    }\n",
              "  </style>\n",
              "\n",
              "      <script>\n",
              "        const buttonEl =\n",
              "          document.querySelector('#df-5002c3bc-b934-4868-a84b-771dcdb61e5a button.colab-df-convert');\n",
              "        buttonEl.style.display =\n",
              "          google.colab.kernel.accessAllowed ? 'block' : 'none';\n",
              "\n",
              "        async function convertToInteractive(key) {\n",
              "          const element = document.querySelector('#df-5002c3bc-b934-4868-a84b-771dcdb61e5a');\n",
              "          const dataTable =\n",
              "            await google.colab.kernel.invokeFunction('convertToInteractive',\n",
              "                                                     [key], {});\n",
              "          if (!dataTable) return;\n",
              "\n",
              "          const docLinkHtml = 'Like what you see? Visit the ' +\n",
              "            '<a target=\"_blank\" href=https://colab.research.google.com/notebooks/data_table.ipynb>data table notebook</a>'\n",
              "            + ' to learn more about interactive tables.';\n",
              "          element.innerHTML = '';\n",
              "          dataTable['output_type'] = 'display_data';\n",
              "          await google.colab.output.renderOutput(dataTable, element);\n",
              "          const docLink = document.createElement('div');\n",
              "          docLink.innerHTML = docLinkHtml;\n",
              "          element.appendChild(docLink);\n",
              "        }\n",
              "      </script>\n",
              "    </div>\n",
              "  </div>\n",
              "  "
            ]
          },
          "metadata": {},
          "execution_count": 37
        }
      ]
    },
    {
      "cell_type": "code",
      "source": [
        ""
      ],
      "metadata": {
        "id": "ELxKEMttbmzg"
      },
      "execution_count": null,
      "outputs": []
    },
    {
      "cell_type": "markdown",
      "source": [
        "### Preprocessing\n"
      ],
      "metadata": {
        "id": "T1GBvhU8BVdv"
      }
    },
    {
      "cell_type": "code",
      "source": [
        "#Lowercase\n",
        "final_df['Tweet'] = final_df.Tweet.str.lower()"
      ],
      "metadata": {
        "id": "5vQ6ReVobmxQ"
      },
      "execution_count": null,
      "outputs": []
    },
    {
      "cell_type": "code",
      "source": [
        "#URL links\n",
        "final_df.Tweet = final_df.Tweet.apply(lambda x: re.sub(r'https?:\\/\\/\\S+', '', x))"
      ],
      "metadata": {
        "id": "j-eMQv95B7yr"
      },
      "execution_count": null,
      "outputs": []
    },
    {
      "cell_type": "code",
      "source": [
        "final_df.Tweet = final_df.Tweet.apply(lambda x: re.sub(r\"www\\.[a-z]?\\.?(com)+|[a-z]+\\.(com)\", '', x))"
      ],
      "metadata": {
        "id": "urZWB6j-B7ri"
      },
      "execution_count": null,
      "outputs": []
    },
    {
      "cell_type": "code",
      "source": [
        "#Placeholders link&videos\n",
        "final_df.Tweet = final_df.Tweet.apply(lambda x: re.sub(r'{link}', '', x))\n",
        "final_df.Tweet = final_df.Tweet.apply(lambda x: re.sub(r\"\\[video\\]\", '', x))"
      ],
      "metadata": {
        "id": "nk20cdVvB7ld"
      },
      "execution_count": null,
      "outputs": []
    },
    {
      "cell_type": "code",
      "source": [
        "#HTML reference characters\n",
        "final_df.Tweet = final_df.Tweet.apply(lambda x: re.sub(r'&[a-z]+;', '', x))"
      ],
      "metadata": {
        "id": "KH6cCrN6B7cP"
      },
      "execution_count": null,
      "outputs": []
    },
    {
      "cell_type": "code",
      "source": [
        "#remove @mentions\n",
        "final_df.Tweet = final_df.Tweet.apply(lambda x:re.sub(\"@[A-Za-z0-9_]+\",\"\",x))\n"
      ],
      "metadata": {
        "id": "w7w22tcSD0Wa"
      },
      "execution_count": null,
      "outputs": []
    },
    {
      "cell_type": "code",
      "source": [
        "#remove #hashtags\n",
        "final_df.Tweet = final_df.Tweet.apply(lambda x:re.sub(\"#[A-Za-z0-9_]+\",\"\",x))\n"
      ],
      "metadata": {
        "id": "Zf1Qm1hZD0Rn"
      },
      "execution_count": null,
      "outputs": []
    },
    {
      "cell_type": "code",
      "source": [
        "#Non-letter characters\n",
        "final_df.Tweet = final_df.Tweet.apply(lambda x: re.sub(r\"[^a-z\\s\\(\\-\\:\\)\\\\\\/\\];='#]\", '', x))"
      ],
      "metadata": {
        "id": "SuENcX3CD0Lm"
      },
      "execution_count": null,
      "outputs": []
    },
    {
      "cell_type": "code",
      "source": [
        "final_df"
      ],
      "metadata": {
        "id": "N-gxUkFNEDTE",
        "colab": {
          "base_uri": "https://localhost:8080/",
          "height": 424
        },
        "outputId": "a97da9f3-b6dd-4480-8ef3-218799d29b4a"
      },
      "execution_count": null,
      "outputs": [
        {
          "output_type": "execute_result",
          "data": {
            "text/plain": [
              "                                                 Tweet\n",
              "0    why buy a tesla  i don't mean what's the case ...\n",
              "1       so  what happened to their multi-trillion d...\n",
              "2    in  the green universe enterprise signed a con...\n",
              "3    at  redevco sites across belgium electric vehi...\n",
              "4    there are more people joining the  movement an...\n",
              "..                                                 ...\n",
              "145   - investigators suspect that a booby trap fou...\n",
              "146   the beauty of no plastic surgery her face is ...\n",
              "147  his is a  tonne machine producing a chair shel...\n",
              "148   didnt they ban kinder eggs cause american kid...\n",
              "0             ' white polyethylene shell life r  ebay \n",
              "\n",
              "[1860 rows x 1 columns]"
            ],
            "text/html": [
              "\n",
              "  <div id=\"df-f05bcbbc-8922-4c75-9484-5a449e4791c7\">\n",
              "    <div class=\"colab-df-container\">\n",
              "      <div>\n",
              "<style scoped>\n",
              "    .dataframe tbody tr th:only-of-type {\n",
              "        vertical-align: middle;\n",
              "    }\n",
              "\n",
              "    .dataframe tbody tr th {\n",
              "        vertical-align: top;\n",
              "    }\n",
              "\n",
              "    .dataframe thead th {\n",
              "        text-align: right;\n",
              "    }\n",
              "</style>\n",
              "<table border=\"1\" class=\"dataframe\">\n",
              "  <thead>\n",
              "    <tr style=\"text-align: right;\">\n",
              "      <th></th>\n",
              "      <th>Tweet</th>\n",
              "    </tr>\n",
              "  </thead>\n",
              "  <tbody>\n",
              "    <tr>\n",
              "      <th>0</th>\n",
              "      <td>why buy a tesla  i don't mean what's the case ...</td>\n",
              "    </tr>\n",
              "    <tr>\n",
              "      <th>1</th>\n",
              "      <td>so  what happened to their multi-trillion d...</td>\n",
              "    </tr>\n",
              "    <tr>\n",
              "      <th>2</th>\n",
              "      <td>in  the green universe enterprise signed a con...</td>\n",
              "    </tr>\n",
              "    <tr>\n",
              "      <th>3</th>\n",
              "      <td>at  redevco sites across belgium electric vehi...</td>\n",
              "    </tr>\n",
              "    <tr>\n",
              "      <th>4</th>\n",
              "      <td>there are more people joining the  movement an...</td>\n",
              "    </tr>\n",
              "    <tr>\n",
              "      <th>...</th>\n",
              "      <td>...</td>\n",
              "    </tr>\n",
              "    <tr>\n",
              "      <th>145</th>\n",
              "      <td>- investigators suspect that a booby trap fou...</td>\n",
              "    </tr>\n",
              "    <tr>\n",
              "      <th>146</th>\n",
              "      <td>the beauty of no plastic surgery her face is ...</td>\n",
              "    </tr>\n",
              "    <tr>\n",
              "      <th>147</th>\n",
              "      <td>his is a  tonne machine producing a chair shel...</td>\n",
              "    </tr>\n",
              "    <tr>\n",
              "      <th>148</th>\n",
              "      <td>didnt they ban kinder eggs cause american kid...</td>\n",
              "    </tr>\n",
              "    <tr>\n",
              "      <th>0</th>\n",
              "      <td>' white polyethylene shell life r  ebay</td>\n",
              "    </tr>\n",
              "  </tbody>\n",
              "</table>\n",
              "<p>1860 rows × 1 columns</p>\n",
              "</div>\n",
              "      <button class=\"colab-df-convert\" onclick=\"convertToInteractive('df-f05bcbbc-8922-4c75-9484-5a449e4791c7')\"\n",
              "              title=\"Convert this dataframe to an interactive table.\"\n",
              "              style=\"display:none;\">\n",
              "        \n",
              "  <svg xmlns=\"http://www.w3.org/2000/svg\" height=\"24px\"viewBox=\"0 0 24 24\"\n",
              "       width=\"24px\">\n",
              "    <path d=\"M0 0h24v24H0V0z\" fill=\"none\"/>\n",
              "    <path d=\"M18.56 5.44l.94 2.06.94-2.06 2.06-.94-2.06-.94-.94-2.06-.94 2.06-2.06.94zm-11 1L8.5 8.5l.94-2.06 2.06-.94-2.06-.94L8.5 2.5l-.94 2.06-2.06.94zm10 10l.94 2.06.94-2.06 2.06-.94-2.06-.94-.94-2.06-.94 2.06-2.06.94z\"/><path d=\"M17.41 7.96l-1.37-1.37c-.4-.4-.92-.59-1.43-.59-.52 0-1.04.2-1.43.59L10.3 9.45l-7.72 7.72c-.78.78-.78 2.05 0 2.83L4 21.41c.39.39.9.59 1.41.59.51 0 1.02-.2 1.41-.59l7.78-7.78 2.81-2.81c.8-.78.8-2.07 0-2.86zM5.41 20L4 18.59l7.72-7.72 1.47 1.35L5.41 20z\"/>\n",
              "  </svg>\n",
              "      </button>\n",
              "      \n",
              "  <style>\n",
              "    .colab-df-container {\n",
              "      display:flex;\n",
              "      flex-wrap:wrap;\n",
              "      gap: 12px;\n",
              "    }\n",
              "\n",
              "    .colab-df-convert {\n",
              "      background-color: #E8F0FE;\n",
              "      border: none;\n",
              "      border-radius: 50%;\n",
              "      cursor: pointer;\n",
              "      display: none;\n",
              "      fill: #1967D2;\n",
              "      height: 32px;\n",
              "      padding: 0 0 0 0;\n",
              "      width: 32px;\n",
              "    }\n",
              "\n",
              "    .colab-df-convert:hover {\n",
              "      background-color: #E2EBFA;\n",
              "      box-shadow: 0px 1px 2px rgba(60, 64, 67, 0.3), 0px 1px 3px 1px rgba(60, 64, 67, 0.15);\n",
              "      fill: #174EA6;\n",
              "    }\n",
              "\n",
              "    [theme=dark] .colab-df-convert {\n",
              "      background-color: #3B4455;\n",
              "      fill: #D2E3FC;\n",
              "    }\n",
              "\n",
              "    [theme=dark] .colab-df-convert:hover {\n",
              "      background-color: #434B5C;\n",
              "      box-shadow: 0px 1px 3px 1px rgba(0, 0, 0, 0.15);\n",
              "      filter: drop-shadow(0px 1px 2px rgba(0, 0, 0, 0.3));\n",
              "      fill: #FFFFFF;\n",
              "    }\n",
              "  </style>\n",
              "\n",
              "      <script>\n",
              "        const buttonEl =\n",
              "          document.querySelector('#df-f05bcbbc-8922-4c75-9484-5a449e4791c7 button.colab-df-convert');\n",
              "        buttonEl.style.display =\n",
              "          google.colab.kernel.accessAllowed ? 'block' : 'none';\n",
              "\n",
              "        async function convertToInteractive(key) {\n",
              "          const element = document.querySelector('#df-f05bcbbc-8922-4c75-9484-5a449e4791c7');\n",
              "          const dataTable =\n",
              "            await google.colab.kernel.invokeFunction('convertToInteractive',\n",
              "                                                     [key], {});\n",
              "          if (!dataTable) return;\n",
              "\n",
              "          const docLinkHtml = 'Like what you see? Visit the ' +\n",
              "            '<a target=\"_blank\" href=https://colab.research.google.com/notebooks/data_table.ipynb>data table notebook</a>'\n",
              "            + ' to learn more about interactive tables.';\n",
              "          element.innerHTML = '';\n",
              "          dataTable['output_type'] = 'display_data';\n",
              "          await google.colab.output.renderOutput(dataTable, element);\n",
              "          const docLink = document.createElement('div');\n",
              "          docLink.innerHTML = docLinkHtml;\n",
              "          element.appendChild(docLink);\n",
              "        }\n",
              "      </script>\n",
              "    </div>\n",
              "  </div>\n",
              "  "
            ]
          },
          "metadata": {},
          "execution_count": 46
        }
      ]
    },
    {
      "cell_type": "code",
      "source": [
        "#drop duplicated\n",
        "final_df.drop_duplicates(inplace=True)"
      ],
      "metadata": {
        "id": "W5PUm-zDEduw"
      },
      "execution_count": null,
      "outputs": []
    },
    {
      "cell_type": "code",
      "source": [
        "final_df"
      ],
      "metadata": {
        "colab": {
          "base_uri": "https://localhost:8080/",
          "height": 424
        },
        "id": "5Lh7ri0MEdsf",
        "outputId": "1424d81f-4f93-420e-c355-789d085306bc"
      },
      "execution_count": null,
      "outputs": [
        {
          "output_type": "execute_result",
          "data": {
            "text/plain": [
              "                                                 Tweet\n",
              "0    why buy a tesla  i don't mean what's the case ...\n",
              "1       so  what happened to their multi-trillion d...\n",
              "2    in  the green universe enterprise signed a con...\n",
              "3    at  redevco sites across belgium electric vehi...\n",
              "4    there are more people joining the  movement an...\n",
              "..                                                 ...\n",
              "145   - investigators suspect that a booby trap fou...\n",
              "146   the beauty of no plastic surgery her face is ...\n",
              "147  his is a  tonne machine producing a chair shel...\n",
              "148   didnt they ban kinder eggs cause american kid...\n",
              "0             ' white polyethylene shell life r  ebay \n",
              "\n",
              "[1486 rows x 1 columns]"
            ],
            "text/html": [
              "\n",
              "  <div id=\"df-9f7fbe07-b205-4914-b7e9-f27ada128684\">\n",
              "    <div class=\"colab-df-container\">\n",
              "      <div>\n",
              "<style scoped>\n",
              "    .dataframe tbody tr th:only-of-type {\n",
              "        vertical-align: middle;\n",
              "    }\n",
              "\n",
              "    .dataframe tbody tr th {\n",
              "        vertical-align: top;\n",
              "    }\n",
              "\n",
              "    .dataframe thead th {\n",
              "        text-align: right;\n",
              "    }\n",
              "</style>\n",
              "<table border=\"1\" class=\"dataframe\">\n",
              "  <thead>\n",
              "    <tr style=\"text-align: right;\">\n",
              "      <th></th>\n",
              "      <th>Tweet</th>\n",
              "    </tr>\n",
              "  </thead>\n",
              "  <tbody>\n",
              "    <tr>\n",
              "      <th>0</th>\n",
              "      <td>why buy a tesla  i don't mean what's the case ...</td>\n",
              "    </tr>\n",
              "    <tr>\n",
              "      <th>1</th>\n",
              "      <td>so  what happened to their multi-trillion d...</td>\n",
              "    </tr>\n",
              "    <tr>\n",
              "      <th>2</th>\n",
              "      <td>in  the green universe enterprise signed a con...</td>\n",
              "    </tr>\n",
              "    <tr>\n",
              "      <th>3</th>\n",
              "      <td>at  redevco sites across belgium electric vehi...</td>\n",
              "    </tr>\n",
              "    <tr>\n",
              "      <th>4</th>\n",
              "      <td>there are more people joining the  movement an...</td>\n",
              "    </tr>\n",
              "    <tr>\n",
              "      <th>...</th>\n",
              "      <td>...</td>\n",
              "    </tr>\n",
              "    <tr>\n",
              "      <th>145</th>\n",
              "      <td>- investigators suspect that a booby trap fou...</td>\n",
              "    </tr>\n",
              "    <tr>\n",
              "      <th>146</th>\n",
              "      <td>the beauty of no plastic surgery her face is ...</td>\n",
              "    </tr>\n",
              "    <tr>\n",
              "      <th>147</th>\n",
              "      <td>his is a  tonne machine producing a chair shel...</td>\n",
              "    </tr>\n",
              "    <tr>\n",
              "      <th>148</th>\n",
              "      <td>didnt they ban kinder eggs cause american kid...</td>\n",
              "    </tr>\n",
              "    <tr>\n",
              "      <th>0</th>\n",
              "      <td>' white polyethylene shell life r  ebay</td>\n",
              "    </tr>\n",
              "  </tbody>\n",
              "</table>\n",
              "<p>1486 rows × 1 columns</p>\n",
              "</div>\n",
              "      <button class=\"colab-df-convert\" onclick=\"convertToInteractive('df-9f7fbe07-b205-4914-b7e9-f27ada128684')\"\n",
              "              title=\"Convert this dataframe to an interactive table.\"\n",
              "              style=\"display:none;\">\n",
              "        \n",
              "  <svg xmlns=\"http://www.w3.org/2000/svg\" height=\"24px\"viewBox=\"0 0 24 24\"\n",
              "       width=\"24px\">\n",
              "    <path d=\"M0 0h24v24H0V0z\" fill=\"none\"/>\n",
              "    <path d=\"M18.56 5.44l.94 2.06.94-2.06 2.06-.94-2.06-.94-.94-2.06-.94 2.06-2.06.94zm-11 1L8.5 8.5l.94-2.06 2.06-.94-2.06-.94L8.5 2.5l-.94 2.06-2.06.94zm10 10l.94 2.06.94-2.06 2.06-.94-2.06-.94-.94-2.06-.94 2.06-2.06.94z\"/><path d=\"M17.41 7.96l-1.37-1.37c-.4-.4-.92-.59-1.43-.59-.52 0-1.04.2-1.43.59L10.3 9.45l-7.72 7.72c-.78.78-.78 2.05 0 2.83L4 21.41c.39.39.9.59 1.41.59.51 0 1.02-.2 1.41-.59l7.78-7.78 2.81-2.81c.8-.78.8-2.07 0-2.86zM5.41 20L4 18.59l7.72-7.72 1.47 1.35L5.41 20z\"/>\n",
              "  </svg>\n",
              "      </button>\n",
              "      \n",
              "  <style>\n",
              "    .colab-df-container {\n",
              "      display:flex;\n",
              "      flex-wrap:wrap;\n",
              "      gap: 12px;\n",
              "    }\n",
              "\n",
              "    .colab-df-convert {\n",
              "      background-color: #E8F0FE;\n",
              "      border: none;\n",
              "      border-radius: 50%;\n",
              "      cursor: pointer;\n",
              "      display: none;\n",
              "      fill: #1967D2;\n",
              "      height: 32px;\n",
              "      padding: 0 0 0 0;\n",
              "      width: 32px;\n",
              "    }\n",
              "\n",
              "    .colab-df-convert:hover {\n",
              "      background-color: #E2EBFA;\n",
              "      box-shadow: 0px 1px 2px rgba(60, 64, 67, 0.3), 0px 1px 3px 1px rgba(60, 64, 67, 0.15);\n",
              "      fill: #174EA6;\n",
              "    }\n",
              "\n",
              "    [theme=dark] .colab-df-convert {\n",
              "      background-color: #3B4455;\n",
              "      fill: #D2E3FC;\n",
              "    }\n",
              "\n",
              "    [theme=dark] .colab-df-convert:hover {\n",
              "      background-color: #434B5C;\n",
              "      box-shadow: 0px 1px 3px 1px rgba(0, 0, 0, 0.15);\n",
              "      filter: drop-shadow(0px 1px 2px rgba(0, 0, 0, 0.3));\n",
              "      fill: #FFFFFF;\n",
              "    }\n",
              "  </style>\n",
              "\n",
              "      <script>\n",
              "        const buttonEl =\n",
              "          document.querySelector('#df-9f7fbe07-b205-4914-b7e9-f27ada128684 button.colab-df-convert');\n",
              "        buttonEl.style.display =\n",
              "          google.colab.kernel.accessAllowed ? 'block' : 'none';\n",
              "\n",
              "        async function convertToInteractive(key) {\n",
              "          const element = document.querySelector('#df-9f7fbe07-b205-4914-b7e9-f27ada128684');\n",
              "          const dataTable =\n",
              "            await google.colab.kernel.invokeFunction('convertToInteractive',\n",
              "                                                     [key], {});\n",
              "          if (!dataTable) return;\n",
              "\n",
              "          const docLinkHtml = 'Like what you see? Visit the ' +\n",
              "            '<a target=\"_blank\" href=https://colab.research.google.com/notebooks/data_table.ipynb>data table notebook</a>'\n",
              "            + ' to learn more about interactive tables.';\n",
              "          element.innerHTML = '';\n",
              "          dataTable['output_type'] = 'display_data';\n",
              "          await google.colab.output.renderOutput(dataTable, element);\n",
              "          const docLink = document.createElement('div');\n",
              "          docLink.innerHTML = docLinkHtml;\n",
              "          element.appendChild(docLink);\n",
              "        }\n",
              "      </script>\n",
              "    </div>\n",
              "  </div>\n",
              "  "
            ]
          },
          "metadata": {},
          "execution_count": 48
        }
      ]
    },
    {
      "cell_type": "markdown",
      "source": [
        "Sentiment Analyse"
      ],
      "metadata": {
        "id": "uSv4l6zpY34H"
      }
    },
    {
      "cell_type": "code",
      "source": [
        "!pip install vaderSentiment"
      ],
      "metadata": {
        "colab": {
          "base_uri": "https://localhost:8080/"
        },
        "id": "Pz4BLdebcQgz",
        "outputId": "796e457b-5d50-4f45-f207-11f263959edb"
      },
      "execution_count": null,
      "outputs": [
        {
          "output_type": "stream",
          "name": "stdout",
          "text": [
            "Looking in indexes: https://pypi.org/simple, https://us-python.pkg.dev/colab-wheels/public/simple/\n",
            "Collecting vaderSentiment\n",
            "  Downloading vaderSentiment-3.3.2-py2.py3-none-any.whl (125 kB)\n",
            "\u001b[K     |████████████████████████████████| 125 kB 8.2 MB/s \n",
            "\u001b[?25hRequirement already satisfied: requests in /usr/local/lib/python3.7/dist-packages (from vaderSentiment) (2.23.0)\n",
            "Requirement already satisfied: chardet<4,>=3.0.2 in /usr/local/lib/python3.7/dist-packages (from requests->vaderSentiment) (3.0.4)\n",
            "Requirement already satisfied: urllib3!=1.25.0,!=1.25.1,<1.26,>=1.21.1 in /usr/local/lib/python3.7/dist-packages (from requests->vaderSentiment) (1.24.3)\n",
            "Requirement already satisfied: certifi>=2017.4.17 in /usr/local/lib/python3.7/dist-packages (from requests->vaderSentiment) (2022.5.18.1)\n",
            "Requirement already satisfied: idna<3,>=2.5 in /usr/local/lib/python3.7/dist-packages (from requests->vaderSentiment) (2.10)\n",
            "Installing collected packages: vaderSentiment\n",
            "Successfully installed vaderSentiment-3.3.2\n"
          ]
        }
      ]
    },
    {
      "cell_type": "code",
      "source": [
        "from textblob import TextBlob\n",
        "from nltk.sentiment.vader import SentimentIntensityAnalyzer\n",
        "from vaderSentiment.vaderSentiment import SentimentIntensityAnalyzer\n",
        "import nltk"
      ],
      "metadata": {
        "id": "TyHBCty7Z7U2",
        "colab": {
          "base_uri": "https://localhost:8080/"
        },
        "outputId": "28fe621d-3a29-4545-d116-efa806450ad4"
      },
      "execution_count": null,
      "outputs": [
        {
          "output_type": "stream",
          "name": "stderr",
          "text": [
            "/usr/local/lib/python3.7/dist-packages/nltk/twitter/__init__.py:20: UserWarning: The twython library has not been installed. Some functionality from the twitter package will not be available.\n",
            "  warnings.warn(\"The twython library has not been installed. \"\n"
          ]
        }
      ]
    },
    {
      "cell_type": "code",
      "source": [
        "\n",
        "from nltk.sentiment.vader import SentimentIntensityAnalyzer\n",
        "nltk.download('vader_lexicon')\n",
        "sentiments = SentimentIntensityAnalyzer()\n",
        "final_df[\"Positive\"] = [sentiments.polarity_scores(i)[\"pos\"] for i in final_df[\"Tweet\"]]\n",
        "final_df[\"Negative\"] = [sentiments.polarity_scores(i)[\"neg\"] for i in final_df[\"Tweet\"]]\n",
        "final_df[\"Neutral\"] = [sentiments.polarity_scores(i)[\"neu\"] for i in final_df[\"Tweet\"]]"
      ],
      "metadata": {
        "colab": {
          "base_uri": "https://localhost:8080/"
        },
        "id": "vBoRmf6mfG1K",
        "outputId": "f4e8150d-9a85-45ff-ae70-61a14d6b37d4"
      },
      "execution_count": null,
      "outputs": [
        {
          "output_type": "stream",
          "name": "stdout",
          "text": [
            "[nltk_data] Downloading package vader_lexicon to /root/nltk_data...\n"
          ]
        }
      ]
    },
    {
      "cell_type": "code",
      "source": [
        "final_df = final_df[[\"Tweet\", \"Positive\", \n",
        "             \"Negative\", \"Neutral\"]]\n",
        "print(final_df.head())"
      ],
      "metadata": {
        "colab": {
          "base_uri": "https://localhost:8080/"
        },
        "id": "vmw3EMGTfGsu",
        "outputId": "9b6207e4-0afd-4955-d3f4-360b410e4e96"
      },
      "execution_count": null,
      "outputs": [
        {
          "output_type": "stream",
          "name": "stdout",
          "text": [
            "                                               Tweet  Positive  Negative  \\\n",
            "0  why buy a tesla  i don't mean what's the case ...     0.234       0.0   \n",
            "1     so  what happened to their multi-trillion d...     0.225       0.0   \n",
            "2  in  the green universe enterprise signed a con...     0.000       0.0   \n",
            "3  at  redevco sites across belgium electric vehi...     0.000       0.0   \n",
            "4  there are more people joining the  movement an...     0.162       0.0   \n",
            "\n",
            "   Neutral  \n",
            "0    0.766  \n",
            "1    0.775  \n",
            "2    1.000  \n",
            "3    1.000  \n",
            "4    0.838  \n"
          ]
        }
      ]
    },
    {
      "cell_type": "code",
      "source": [
        "x = sum(final_df['Positive'])\n",
        "y = sum(final_df['Negative'])\n",
        "z = sum(final_df['Neutral'])\n",
        "\n",
        "def sentiment_score(a,b,c):\n",
        "  if (a>b) and (a>c):\n",
        "    print('Positive')\n",
        "  elif (b>a) and (b>c):\n",
        "    print('Negative')\n",
        "  else:\n",
        "    print('Neutral')\n",
        "\n",
        "sentiment_score(x,y,z)"
      ],
      "metadata": {
        "id": "8KlRKxoPqxJO",
        "colab": {
          "base_uri": "https://localhost:8080/"
        },
        "outputId": "b5801a08-41cb-4e31-a64c-87e68383e160"
      },
      "execution_count": null,
      "outputs": [
        {
          "output_type": "stream",
          "name": "stdout",
          "text": [
            "Neutral\n"
          ]
        }
      ]
    },
    {
      "cell_type": "code",
      "source": [
        "from matplotlib import pyplot as plt"
      ],
      "metadata": {
        "id": "gOfIGFUzY6KL"
      },
      "execution_count": null,
      "outputs": []
    },
    {
      "cell_type": "code",
      "source": [
        "\n",
        "df = pd.DataFrame({'Sentiment':['Positive','Negative','Neutral'],'Value':[x,y,z]})\n",
        "df.groupby(['Sentiment']).sum().plot(kind='pie', y='Value', autopct='%1.0f%%',shadow = True)"
      ],
      "metadata": {
        "colab": {
          "base_uri": "https://localhost:8080/",
          "height": 265
        },
        "id": "calep6GiY6B8",
        "outputId": "3c01dfb8-bf16-4673-c0ab-742820a3d880"
      },
      "execution_count": null,
      "outputs": [
        {
          "output_type": "execute_result",
          "data": {
            "text/plain": [
              "<matplotlib.axes._subplots.AxesSubplot at 0x7f593c34ed90>"
            ]
          },
          "metadata": {},
          "execution_count": 55
        },
        {
          "output_type": "display_data",
          "data": {
            "text/plain": [
              "<Figure size 432x288 with 1 Axes>"
            ],
            "image/png": "[encoded data removed]"
          },
          "metadata": {}
        }
      ]
    },
    {
      "cell_type": "code",
      "source": [
        ""
      ],
      "metadata": {
        "id": "uhuHwVTBY3YC"
      },
      "execution_count": null,
      "outputs": []
    },
    {
      "cell_type": "markdown",
      "source": [
        "### Word Cloud"
      ],
      "metadata": {
        "id": "prJ8_NNrccJq"
      }
    },
    {
      "cell_type": "code",
      "source": [
        "tknzr = TweetTokenizer()\n",
        "final_df['Tokens'] = final_df['Tweet'].apply(tknzr.tokenize)"
      ],
      "metadata": {
        "id": "oAkSvIgXEdqJ"
      },
      "execution_count": null,
      "outputs": []
    },
    {
      "cell_type": "code",
      "source": [
        "final_df"
      ],
      "metadata": {
        "id": "fAV6hqpDEdn-",
        "colab": {
          "base_uri": "https://localhost:8080/",
          "height": 424
        },
        "outputId": "80ab33ec-451f-4b91-9a22-f76630a567ea"
      },
      "execution_count": null,
      "outputs": [
        {
          "output_type": "execute_result",
          "data": {
            "text/plain": [
              "                                                 Tweet  Positive  Negative  \\\n",
              "0    why buy a tesla  i don't mean what's the case ...     0.234     0.000   \n",
              "1       so  what happened to their multi-trillion d...     0.225     0.000   \n",
              "2    in  the green universe enterprise signed a con...     0.000     0.000   \n",
              "3    at  redevco sites across belgium electric vehi...     0.000     0.000   \n",
              "4    there are more people joining the  movement an...     0.162     0.000   \n",
              "..                                                 ...       ...       ...   \n",
              "145   - investigators suspect that a booby trap fou...     0.000     0.257   \n",
              "146   the beauty of no plastic surgery her face is ...     0.386     0.083   \n",
              "147  his is a  tonne machine producing a chair shel...     0.000     0.000   \n",
              "148   didnt they ban kinder eggs cause american kid...     0.113     0.266   \n",
              "0             ' white polyethylene shell life r  ebay      0.000     0.000   \n",
              "\n",
              "     Neutral                                             Tokens  \n",
              "0      0.766  [why, buy, a, tesla, i, don't, mean, what's, t...  \n",
              "1      0.775  [so, what, happened, to, their, multi-trillion...  \n",
              "2      1.000  [in, the, green, universe, enterprise, signed,...  \n",
              "3      1.000  [at, redevco, sites, across, belgium, electric...  \n",
              "4      0.838  [there, are, more, people, joining, the, movem...  \n",
              "..       ...                                                ...  \n",
              "145    0.743  [-, investigators, suspect, that, a, booby, tr...  \n",
              "146    0.530  [the, beauty, of, no, plastic, surgery, her, f...  \n",
              "147    1.000  [his, is, a, tonne, machine, producing, a, cha...  \n",
              "148    0.620  [didnt, they, ban, kinder, eggs, cause, americ...  \n",
              "0      1.000     [', white, polyethylene, shell, life, r, ebay]  \n",
              "\n",
              "[1486 rows x 5 columns]"
            ],
            "text/html": [
              "\n",
              "  <div id=\"df-d67eeeac-0263-4c1f-b22f-19ca7589087c\">\n",
              "    <div class=\"colab-df-container\">\n",
              "      <div>\n",
              "<style scoped>\n",
              "    .dataframe tbody tr th:only-of-type {\n",
              "        vertical-align: middle;\n",
              "    }\n",
              "\n",
              "    .dataframe tbody tr th {\n",
              "        vertical-align: top;\n",
              "    }\n",
              "\n",
              "    .dataframe thead th {\n",
              "        text-align: right;\n",
              "    }\n",
              "</style>\n",
              "<table border=\"1\" class=\"dataframe\">\n",
              "  <thead>\n",
              "    <tr style=\"text-align: right;\">\n",
              "      <th></th>\n",
              "      <th>Tweet</th>\n",
              "      <th>Positive</th>\n",
              "      <th>Negative</th>\n",
              "      <th>Neutral</th>\n",
              "      <th>Tokens</th>\n",
              "    </tr>\n",
              "  </thead>\n",
              "  <tbody>\n",
              "    <tr>\n",
              "      <th>0</th>\n",
              "      <td>why buy a tesla  i don't mean what's the case ...</td>\n",
              "      <td>0.234</td>\n",
              "      <td>0.000</td>\n",
              "      <td>0.766</td>\n",
              "      <td>[why, buy, a, tesla, i, don't, mean, what's, t...</td>\n",
              "    </tr>\n",
              "    <tr>\n",
              "      <th>1</th>\n",
              "      <td>so  what happened to their multi-trillion d...</td>\n",
              "      <td>0.225</td>\n",
              "      <td>0.000</td>\n",
              "      <td>0.775</td>\n",
              "      <td>[so, what, happened, to, their, multi-trillion...</td>\n",
              "    </tr>\n",
              "    <tr>\n",
              "      <th>2</th>\n",
              "      <td>in  the green universe enterprise signed a con...</td>\n",
              "      <td>0.000</td>\n",
              "      <td>0.000</td>\n",
              "      <td>1.000</td>\n",
              "      <td>[in, the, green, universe, enterprise, signed,...</td>\n",
              "    </tr>\n",
              "    <tr>\n",
              "      <th>3</th>\n",
              "      <td>at  redevco sites across belgium electric vehi...</td>\n",
              "      <td>0.000</td>\n",
              "      <td>0.000</td>\n",
              "      <td>1.000</td>\n",
              "      <td>[at, redevco, sites, across, belgium, electric...</td>\n",
              "    </tr>\n",
              "    <tr>\n",
              "      <th>4</th>\n",
              "      <td>there are more people joining the  movement an...</td>\n",
              "      <td>0.162</td>\n",
              "      <td>0.000</td>\n",
              "      <td>0.838</td>\n",
              "      <td>[there, are, more, people, joining, the, movem...</td>\n",
              "    </tr>\n",
              "    <tr>\n",
              "      <th>...</th>\n",
              "      <td>...</td>\n",
              "      <td>...</td>\n",
              "      <td>...</td>\n",
              "      <td>...</td>\n",
              "      <td>...</td>\n",
              "    </tr>\n",
              "    <tr>\n",
              "      <th>145</th>\n",
              "      <td>- investigators suspect that a booby trap fou...</td>\n",
              "      <td>0.000</td>\n",
              "      <td>0.257</td>\n",
              "      <td>0.743</td>\n",
              "      <td>[-, investigators, suspect, that, a, booby, tr...</td>\n",
              "    </tr>\n",
              "    <tr>\n",
              "      <th>146</th>\n",
              "      <td>the beauty of no plastic surgery her face is ...</td>\n",
              "      <td>0.386</td>\n",
              "      <td>0.083</td>\n",
              "      <td>0.530</td>\n",
              "      <td>[the, beauty, of, no, plastic, surgery, her, f...</td>\n",
              "    </tr>\n",
              "    <tr>\n",
              "      <th>147</th>\n",
              "      <td>his is a  tonne machine producing a chair shel...</td>\n",
              "      <td>0.000</td>\n",
              "      <td>0.000</td>\n",
              "      <td>1.000</td>\n",
              "      <td>[his, is, a, tonne, machine, producing, a, cha...</td>\n",
              "    </tr>\n",
              "    <tr>\n",
              "      <th>148</th>\n",
              "      <td>didnt they ban kinder eggs cause american kid...</td>\n",
              "      <td>0.113</td>\n",
              "      <td>0.266</td>\n",
              "      <td>0.620</td>\n",
              "      <td>[didnt, they, ban, kinder, eggs, cause, americ...</td>\n",
              "    </tr>\n",
              "    <tr>\n",
              "      <th>0</th>\n",
              "      <td>' white polyethylene shell life r  ebay</td>\n",
              "      <td>0.000</td>\n",
              "      <td>0.000</td>\n",
              "      <td>1.000</td>\n",
              "      <td>[', white, polyethylene, shell, life, r, ebay]</td>\n",
              "    </tr>\n",
              "  </tbody>\n",
              "</table>\n",
              "<p>1486 rows × 5 columns</p>\n",
              "</div>\n",
              "      <button class=\"colab-df-convert\" onclick=\"convertToInteractive('df-d67eeeac-0263-4c1f-b22f-19ca7589087c')\"\n",
              "              title=\"Convert this dataframe to an interactive table.\"\n",
              "              style=\"display:none;\">\n",
              "        \n",
              "  <svg xmlns=\"http://www.w3.org/2000/svg\" height=\"24px\"viewBox=\"0 0 24 24\"\n",
              "       width=\"24px\">\n",
              "    <path d=\"M0 0h24v24H0V0z\" fill=\"none\"/>\n",
              "    <path d=\"M18.56 5.44l.94 2.06.94-2.06 2.06-.94-2.06-.94-.94-2.06-.94 2.06-2.06.94zm-11 1L8.5 8.5l.94-2.06 2.06-.94-2.06-.94L8.5 2.5l-.94 2.06-2.06.94zm10 10l.94 2.06.94-2.06 2.06-.94-2.06-.94-.94-2.06-.94 2.06-2.06.94z\"/><path d=\"M17.41 7.96l-1.37-1.37c-.4-.4-.92-.59-1.43-.59-.52 0-1.04.2-1.43.59L10.3 9.45l-7.72 7.72c-.78.78-.78 2.05 0 2.83L4 21.41c.39.39.9.59 1.41.59.51 0 1.02-.2 1.41-.59l7.78-7.78 2.81-2.81c.8-.78.8-2.07 0-2.86zM5.41 20L4 18.59l7.72-7.72 1.47 1.35L5.41 20z\"/>\n",
              "  </svg>\n",
              "      </button>\n",
              "      \n",
              "  <style>\n",
              "    .colab-df-container {\n",
              "      display:flex;\n",
              "      flex-wrap:wrap;\n",
              "      gap: 12px;\n",
              "    }\n",
              "\n",
              "    .colab-df-convert {\n",
              "      background-color: #E8F0FE;\n",
              "      border: none;\n",
              "      border-radius: 50%;\n",
              "      cursor: pointer;\n",
              "      display: none;\n",
              "      fill: #1967D2;\n",
              "      height: 32px;\n",
              "      padding: 0 0 0 0;\n",
              "      width: 32px;\n",
              "    }\n",
              "\n",
              "    .colab-df-convert:hover {\n",
              "      background-color: #E2EBFA;\n",
              "      box-shadow: 0px 1px 2px rgba(60, 64, 67, 0.3), 0px 1px 3px 1px rgba(60, 64, 67, 0.15);\n",
              "      fill: #174EA6;\n",
              "    }\n",
              "\n",
              "    [theme=dark] .colab-df-convert {\n",
              "      background-color: #3B4455;\n",
              "      fill: #D2E3FC;\n",
              "    }\n",
              "\n",
              "    [theme=dark] .colab-df-convert:hover {\n",
              "      background-color: #434B5C;\n",
              "      box-shadow: 0px 1px 3px 1px rgba(0, 0, 0, 0.15);\n",
              "      filter: drop-shadow(0px 1px 2px rgba(0, 0, 0, 0.3));\n",
              "      fill: #FFFFFF;\n",
              "    }\n",
              "  </style>\n",
              "\n",
              "      <script>\n",
              "        const buttonEl =\n",
              "          document.querySelector('#df-d67eeeac-0263-4c1f-b22f-19ca7589087c button.colab-df-convert');\n",
              "        buttonEl.style.display =\n",
              "          google.colab.kernel.accessAllowed ? 'block' : 'none';\n",
              "\n",
              "        async function convertToInteractive(key) {\n",
              "          const element = document.querySelector('#df-d67eeeac-0263-4c1f-b22f-19ca7589087c');\n",
              "          const dataTable =\n",
              "            await google.colab.kernel.invokeFunction('convertToInteractive',\n",
              "                                                     [key], {});\n",
              "          if (!dataTable) return;\n",
              "\n",
              "          const docLinkHtml = 'Like what you see? Visit the ' +\n",
              "            '<a target=\"_blank\" href=https://colab.research.google.com/notebooks/data_table.ipynb>data table notebook</a>'\n",
              "            + ' to learn more about interactive tables.';\n",
              "          element.innerHTML = '';\n",
              "          dataTable['output_type'] = 'display_data';\n",
              "          await google.colab.output.renderOutput(dataTable, element);\n",
              "          const docLink = document.createElement('div');\n",
              "          docLink.innerHTML = docLinkHtml;\n",
              "          element.appendChild(docLink);\n",
              "        }\n",
              "      </script>\n",
              "    </div>\n",
              "  </div>\n",
              "  "
            ]
          },
          "metadata": {},
          "execution_count": 70
        }
      ]
    },
    {
      "cell_type": "code",
      "source": [
        "import matplotlib.pyplot as plt\n",
        "%matplotlib inline\n"
      ],
      "metadata": {
        "id": "1q9kdVy_EnlR"
      },
      "execution_count": null,
      "outputs": []
    },
    {
      "cell_type": "code",
      "source": [
        "!pip install wordcloud"
      ],
      "metadata": {
        "id": "crtaetnCEnhu",
        "colab": {
          "base_uri": "https://localhost:8080/"
        },
        "outputId": "e8768bca-468e-477a-e7aa-abfc53b34879"
      },
      "execution_count": null,
      "outputs": [
        {
          "output_type": "stream",
          "name": "stdout",
          "text": [
            "Looking in indexes: https://pypi.org/simple, https://us-python.pkg.dev/colab-wheels/public/simple/\n",
            "Requirement already satisfied: wordcloud in /usr/local/lib/python3.7/dist-packages (1.5.0)\n",
            "Requirement already satisfied: numpy>=1.6.1 in /usr/local/lib/python3.7/dist-packages (from wordcloud) (1.21.6)\n",
            "Requirement already satisfied: pillow in /usr/local/lib/python3.7/dist-packages (from wordcloud) (7.1.2)\n"
          ]
        }
      ]
    },
    {
      "cell_type": "code",
      "source": [
        "from wordcloud import WordCloud"
      ],
      "metadata": {
        "id": "dOnGkIqcEne9"
      },
      "execution_count": null,
      "outputs": []
    },
    {
      "cell_type": "code",
      "source": [
        "word_cloud = WordCloud(collocations=False,background_color = 'white').generate(str(final_df.Tokens))"
      ],
      "metadata": {
        "id": "5jGXzJ7bEncg"
      },
      "execution_count": null,
      "outputs": []
    },
    {
      "cell_type": "code",
      "source": [
        "plt.imshow(word_cloud,interpolation='bilinear')\n",
        "plt.axis('off')\n",
        "plt.show()"
      ],
      "metadata": {
        "id": "YkFBDde6EnZ5",
        "colab": {
          "base_uri": "https://localhost:8080/",
          "height": 198
        },
        "outputId": "18060603-9949-4ff0-f12c-82f17ce9729d"
      },
      "execution_count": null,
      "outputs": [
        {
          "output_type": "display_data",
          "data": {
            "text/plain": [
              "<Figure size 432x288 with 1 Axes>"
            ],
            "image/png": "[encoded data removed]"
          },
          "metadata": {
            "needs_background": "light"
          }
        }
      ]
    },
    {
      "cell_type": "code",
      "execution_count": null,
      "metadata": {
        "id": "5inAE4urgelU"
      },
      "outputs": [],
      "source": [
        ""
      ]
    }
  ]
}